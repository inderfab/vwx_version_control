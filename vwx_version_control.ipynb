{
 "cells": [
  {
   "cell_type": "markdown",
   "id": "37e0cf6c",
   "metadata": {},
   "source": [
    "# Vectorworks Versionen Übersicht\n",
    "### Skript erstellt eine Tabelle mit allen Vectorworksdateien im selektierten Pfad\n",
    "Version 1.0, Fabio Indergand"
   ]
  },
  {
   "cell_type": "markdown",
   "id": "183acf43",
   "metadata": {},
   "source": [
    "\n",
    "#### Bitte den Suchpfad eingeben:\n",
    "Zum Beispiel Rechtsklick auf gewünschten Ordner, Alt Taste drücken und \"Pfadname kopieren\", innerhalb der Anführungszeichen einfügen"
   ]
  },
  {
   "cell_type": "code",
   "execution_count": 1,
   "id": "2660c728",
   "metadata": {},
   "outputs": [],
   "source": [
    "searchpath = \"/Users/fabioindergand\""
   ]
  },
  {
   "cell_type": "markdown",
   "id": "80a48da0",
   "metadata": {},
   "source": [
    "#### Bitte den Exportpfad inklusive Dateinamen eingeben:"
   ]
  },
  {
   "cell_type": "code",
   "execution_count": 2,
   "id": "788973ea",
   "metadata": {},
   "outputs": [],
   "source": [
    "exportpath = \"/Users/fabioindergand/Desktop/Versionen\""
   ]
  },
  {
   "cell_type": "markdown",
   "id": "389de25a",
   "metadata": {},
   "source": [
    "#### Jetzt nur noch im Menü unter Kernel-Restart and Run All anwählen, die Datei wird dann am gewünschten Ort abgelegt.\n",
    "Wenn oben Rechts unter Logout der Kreis schwarz ist, läuft das Programm, sobald er wieder leer ist sollte der Prozess abgeschlossen sein.\n",
    "Je nach gewähltem Ordner braucht der Terminal noch Zugangsrechte, diese werden dann laufend abgefragt"
   ]
  },
  {
   "cell_type": "code",
   "execution_count": 3,
   "id": "59290c68",
   "metadata": {},
   "outputs": [],
   "source": [
    "import glob,os\n",
    "import re\n",
    "import pandas as pd\n",
    "\n",
    "data = []\n",
    "conversionDate = {1:1, 2:2, 3:3, 4:4, 5:5, 6:6, 7:7, 8:8, 9:9, 10:10, 11:11, 12:12, 13:2008, 14:2009, 15:2010, 16:2011, 17:2012, 18:2013, 19:2014, 20:2015, 21:2016, 22:2017, 23:2018, 24:2019, 25:2020, 26:2021, 27:2022, 28:2023, 29:2024, 30:2025}\n",
    "\n",
    "\n",
    "def findVersion(file):\n",
    "    with open(file, 'rb') as content:\n",
    "        bcontent = content.readlines(1)\n",
    "        content = str(bcontent)\n",
    "        versions = re.findall(r\"VW\\d+\\.?\\d.?\\d?\", content)\n",
    "        \n",
    "        startend=[]\n",
    "        for version in versions:\n",
    "            nbr = re.findall(\"(?<=VW)\\d*\",version)[0]\n",
    "            version = re.sub(\"(?<=VW)\\d*\",str(conversionDate[int(nbr)]),version)\n",
    "            startend.append(version)\n",
    "        return startend\n",
    "\n",
    "for root, dirs, files in os.walk(searchpath):\n",
    "    for file in files:\n",
    "        if file.endswith(\".vwx\"):\n",
    "            path = os.path.join(root, file)\n",
    "            startend = findVersion(path)\n",
    "            data.append([file, startend[0], startend[1],''])\n",
    "\n",
    "df = pd.DataFrame(data,columns =['File',\"Start\",\"Ende\",\"Link\"])\n",
    "#df.to_excel('{}/Dateiversionen.xlsx'.format(searchpath), sheet_name='Versionen', index=False)\n",
    "\n",
    "writer = pd.ExcelWriter('{}.xlsx'.format(exportpath), engine='xlsxwriter')\n",
    "df.to_excel(writer, sheet_name='Versionen', index=False)\n",
    "workbook  = writer.book\n",
    "worksheet = writer.sheets['Versionen']\n",
    "\n",
    "for index, row in df.iterrows():\n",
    "    rownr = index + 2\n",
    "    worksheet.write_url('D{}'.format(rownr),'file://{}'.format(os.path.join(searchpath, row[\"File\"]) ))\n",
    "\n",
    "worksheet.set_column(0, 0, 40)\n",
    "worksheet.set_column(1, 2, 12)\n",
    "worksheet.set_column(3, 3, 70)\n",
    "\n",
    "writer.save()\n"
   ]
  },
  {
   "cell_type": "code",
   "execution_count": 7,
   "id": "748e1bd6",
   "metadata": {},
   "outputs": [
    {
     "name": "stdout",
     "output_type": "stream",
     "text": [
      "re==2.2.1\n",
      "pandas==1.4.2\n"
     ]
    }
   ],
   "source": [
    "print('\\n'.join(f'{m.__name__}=={m.__version__}' for m in globals().values() if getattr(m, '__version__', None)))"
   ]
  },
  {
   "cell_type": "code",
   "execution_count": null,
   "id": "56447c4c",
   "metadata": {},
   "outputs": [],
   "source": []
  }
 ],
 "metadata": {
  "kernelspec": {
   "display_name": "Python 3 (ipykernel)",
   "language": "python",
   "name": "python3"
  },
  "language_info": {
   "codemirror_mode": {
    "name": "ipython",
    "version": 3
   },
   "file_extension": ".py",
   "mimetype": "text/x-python",
   "name": "python",
   "nbconvert_exporter": "python",
   "pygments_lexer": "ipython3",
   "version": "3.9.12"
  }
 },
 "nbformat": 4,
 "nbformat_minor": 5
}
